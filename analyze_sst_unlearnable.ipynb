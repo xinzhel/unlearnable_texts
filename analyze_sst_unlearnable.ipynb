{
 "cells": [
  {
   "cell_type": "code",
   "execution_count": 1,
   "metadata": {},
   "outputs": [],
   "source": [
    "import json\n",
    "\n",
    "# for UnlearnableSSTDatasetReader\n",
    "from typing import Dict, List, Optional, Union\n",
    "import logging\n",
    "from overrides import overrides\n",
    "from nltk.tree import Tree\n",
    "import json\n",
    "import random\n",
    "from allennlp.common.file_utils import cached_path\n",
    "from allennlp.data.dataset_readers.dataset_reader import DatasetReader\n",
    "from allennlp.data.fields import LabelField, TextField, Field, FlagField\n",
    "from allennlp.data.instance import Instance\n",
    "from allennlp.data.token_indexers import TokenIndexer, SingleIdTokenIndexer\n",
    "from allennlp.data.tokenizers import Token, Tokenizer\n",
    "from allennlp.common.checks import ConfigurationError\n",
    "from allennlp_models.classification.dataset_readers import StanfordSentimentTreeBankDatasetReader\n",
    "from allennlp_extra.text_modifier import prepend_instance\n",
    "\n",
    "logger = logging.getLogger(__name__)\n",
    "\n",
    "# @DatasetReader.register(\"perturbed_sst\")\n",
    "class PerturbedSSTDatasetReader(StanfordSentimentTreeBankDatasetReader):\n",
    "    def __init__(\n",
    "            self, \n",
    "            modification_path: str = None,\n",
    "            triggers: dict = None,\n",
    "            prob: float = 1.0,\n",
    "            skip: bool = False,\n",
    "            token_indexers: Dict[str, TokenIndexer] = None,\n",
    "            tokenizer: Optional[Tokenizer] = None,\n",
    "            use_subtrees: bool = False,\n",
    "            granularity: str = \"5-class\",\n",
    "            position: str = 'begin',\n",
    "            **kwargs,):\n",
    "        super().__init__(token_indexers=token_indexers, tokenizer=tokenizer, use_subtrees=use_subtrees, granularity=granularity, **kwargs)\n",
    "        \n",
    "        self.modifications = json.load(open(modification_path, 'rb')) if modification_path else None\n",
    "        self.triggers = triggers\n",
    "        self.prob = prob\n",
    "        self.skip = skip\n",
    "        self.position = position\n",
    "        \n",
    "    @overrides\n",
    "    def _read(self, file_path):\n",
    "        with open(cached_path(file_path), \"r\") as data_file:\n",
    "            logger.info(\"Reading instances from lines in file at: %s\", file_path)\n",
    "            idx = -1\n",
    "            random.seed(13370)\n",
    "            for line in data_file.readlines():\n",
    "                line = line.strip(\"\\n\")\n",
    "                if not line:\n",
    "                    continue\n",
    "                parsed_line = Tree.fromstring(line)\n",
    "                \n",
    "                # not use subtree\n",
    "                instance = self.text_to_instance(parsed_line.leaves(), parsed_line.label())\n",
    "                \n",
    "                if instance is not None:\n",
    "                    idx += 1\n",
    "                    if random.uniform(0,1) <= self.prob:\n",
    "                        if self.modifications is not None:  \n",
    "                            modification =  [(k, v) for k, v in self.modifications[idx].items()]\n",
    "                            where_to_modify, what_to_modify = modification[0]\n",
    "                            tokens = parsed_line.leaves()\n",
    "                            tokens[int(where_to_modify)] = what_to_modify\n",
    "                            instance = self.text_to_instance(tokens, parsed_line.label())\n",
    "                            instance.add_field(\"unlearnable\", FlagField(True))\n",
    "                        elif self.triggers is not None: \n",
    "                            prepend_instance(instance, self.triggers, position=self.position)\n",
    "                            instance.add_field(\"unlearnable\", FlagField(True))\n",
    "                        elif self.skip:\n",
    "                            continue\n",
    "                        else:\n",
    "                            raise Exception('You have to specify the perturbation mode (sample-wise | class-wise | skip)')\n",
    "                    else:\n",
    "                        instance.add_field(\"unlearnable\", FlagField(False))\n",
    "                    yield instance\n",
    "\n",
    "\n"
   ]
  },
  {
   "cell_type": "code",
   "execution_count": 33,
   "metadata": {},
   "outputs": [],
   "source": []
  },
  {
   "cell_type": "code",
   "execution_count": 8,
   "metadata": {},
   "outputs": [],
   "source": [
    "train_data_path = \"https://allennlp.s3.amazonaws.com/datasets/sst/train.txt\"\n",
    "clean_data_reader = StanfordSentimentTreeBankDatasetReader(granularity=\"2-class\")\n",
    "instances = list(clean_data_reader.read(train_data_path))\n",
    "modifications_path = 'outputs/sst2/lstm/modification_epoch0_batch180.json'\n",
    "\n",
    "perturbed_reader = PerturbedSSTDatasetReader(modification_path=modifications_path, granularity=\"2-class\")\n",
    "modifications = perturbed_reader.modifications\n",
    "#  instance_generator = iter(perturbed_reader.read(train_data_path))"
   ]
  },
  {
   "cell_type": "code",
   "execution_count": 36,
   "metadata": {},
   "outputs": [],
   "source": [
    "lst_index_from_last = []\n",
    "lst_relative_position = []\n",
    "for idx in range(100):\n",
    "\n",
    "    modification =  [(k, v) for k, v in modifications[idx].items()]\n",
    "    where_to_modify, what_to_modify = modification[0]\n",
    "    index_from_last = len(instances[idx].fields['tokens'])- int(where_to_modify)\n",
    "    relative_posistion = int(where_to_modify) / len(instances[idx].fields['tokens'])\n",
    "\n",
    "    lst_index_from_last.append(index_from_last)\n",
    "    lst_relative_position.append(relative_posistion)\n",
    "    # print(instances[idx].fields['tokens'])\n",
    "    # print(instances[idx].fields['label'])\n"
   ]
  },
  {
   "cell_type": "code",
   "execution_count": 50,
   "metadata": {},
   "outputs": [
    {
     "data": {
      "text/plain": [
       "(array([2, 3]), array([ 7, 93]))"
      ]
     },
     "execution_count": 50,
     "metadata": {},
     "output_type": "execute_result"
    }
   ],
   "source": [
    "import numpy as np\n",
    "np.unique(lst_index_from_last, return_counts=True)"
   ]
  },
  {
   "cell_type": "code",
   "execution_count": 45,
   "metadata": {},
   "outputs": [
    {
     "data": {
      "image/png": "[encoded data removed]",
      "text/plain": [
       "<Figure size 576x288 with 1 Axes>"
      ]
     },
     "metadata": {
      "needs_background": "light"
     },
     "output_type": "display_data"
    }
   ],
   "source": [
    "\n",
    "from matplotlib import pyplot as plt\n",
    "dt_hex = \"#2b4750\"\n",
    "r_hex = \"#dc2624\"\n",
    "fig = plt.figure(figsize= (8, 4))\n",
    "plt.hist(lst_relative_position, color=dt_hex, bins=11)\n",
    "plt.ylim((0,35))\n",
    "plt.show()"
   ]
  },
  {
   "cell_type": "markdown",
   "metadata": {},
   "source": [
    "## Twitter Gender"
   ]
  },
  {
   "cell_type": "code",
   "execution_count": null,
   "metadata": {},
   "outputs": [],
   "source": [
    "from allennlp_extra.data.dataset_readers import TwitterGenderDatasetReader, PerturbLabeledTextDatasetReadere\n",
    "from allennlp.models import load_archive\n",
    "archive = load_archive('../models/twitter_gender/bert/model.tar.gz')\n",
    "model = archive.model\n",
    "dataset_reader = archive.dataset_reader\n",
    "instance_generator = dataset_reader.read(file_path=\"../data/squad/add_unlearn_substitution_random_pos.json\")\n",
    "\n",
    "import numpy as np\n",
    "instance_generator = dataset_reader.read(file_path=\"../data/squad/remove_surround_words.json\")\n",
    "for instance in instance_generator:\n",
    "    dataset_reader.apply_token_indexers(instance)\n",
    "    output = model.forward_on_instance(instance)"
   ]
  }
 ],
 "metadata": {
  "interpreter": {
   "hash": "23b04ccbd0ebf9a379475fdf3211eaaf98859dac7e2af73e3f6f3303c032dc6f"
  },
  "kernelspec": {
   "display_name": "Python 3.7.9 64-bit ('allennlp-dev': pyenv)",
   "language": "python",
   "name": "python3"
  },
  "language_info": {
   "codemirror_mode": {
    "name": "ipython",
    "version": 3
   },
   "file_extension": ".py",
   "mimetype": "text/x-python",
   "name": "python",
   "nbconvert_exporter": "python",
   "pygments_lexer": "ipython3",
   "version": "3.7.9"
  },
  "orig_nbformat": 4
 },
 "nbformat": 4,
 "nbformat_minor": 2
}
