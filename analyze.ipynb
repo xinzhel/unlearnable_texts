{
 "cells": [
  {
   "cell_type": "code",
   "execution_count": 56,
   "metadata": {},
   "outputs": [],
   "source": [
    "import pickle\n",
    "with open(\"outputs/sst2/lstm/modifications_0.pickle\", 'rb') as file:\n",
    "    modifications = pickle.load(file)\n",
    "\n",
    "with open(\"train_instances.pickle\", 'rb') as file:\n",
    "    train_instances = pickle.load(file)\n",
    "\n"
   ]
  },
  {
   "cell_type": "code",
   "execution_count": 57,
   "metadata": {},
   "outputs": [
    {
     "name": "stdout",
     "output_type": "stream",
     "text": [
      "{13: 'stiflingly'} sequences [Still, ,, this, flick, is, fun, ,, and, host, to, some, truly, excellent, sequences, .]\n"
     ]
    }
   ],
   "source": [
    "i = 11\n",
    "pos = int(list(modifications[i].keys())[0])\n",
    "print(modifications[i], train_instances[i][\"tokens\"].tokens[pos], train_instances[i][\"tokens\"].tokens)"
   ]
  },
  {
   "cell_type": "code",
   "execution_count": null,
   "metadata": {},
   "outputs": [],
   "source": []
  }
 ],
 "metadata": {
  "kernelspec": {
   "display_name": "Python 3.7.9 64-bit ('allennlp-dev')",
   "language": "python",
   "name": "python3"
  },
  "language_info": {
   "codemirror_mode": {
    "name": "ipython",
    "version": 3
   },
   "file_extension": ".py",
   "mimetype": "text/x-python",
   "name": "python",
   "nbconvert_exporter": "python",
   "pygments_lexer": "ipython3",
   "version": "3.7.9"
  },
  "orig_nbformat": 4,
  "vscode": {
   "interpreter": {
    "hash": "23b04ccbd0ebf9a379475fdf3211eaaf98859dac7e2af73e3f6f3303c032dc6f"
   }
  }
 },
 "nbformat": 4,
 "nbformat_minor": 2
}
